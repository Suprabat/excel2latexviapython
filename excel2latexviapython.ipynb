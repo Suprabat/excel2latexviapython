{
 "cells": [
  {
   "cell_type": "markdown",
   "metadata": {},
   "source": [
    "# Excel2LaTeXViaPython\n",
    "\n",
    "This code reads in an excel file, and writes a LaTeX file file containing a tabular environment that attempts to match the styling of the excel table as much as possible."
   ]
  },
  {
   "cell_type": "markdown",
   "metadata": {},
   "source": [
    "## Preamble\n"
   ]
  },
  {
   "cell_type": "code",
   "execution_count": 1,
   "metadata": {
    "collapsed": false
   },
   "outputs": [
    {
     "data": {
      "text/plain": [
       "'2.3.2'"
      ]
     },
     "execution_count": 1,
     "metadata": {},
     "output_type": "execute_result"
    }
   ],
   "source": [
    "import openpyxl # Package for reading excel files (.xlsx) into Python\n",
    "openpyxl.__version__ # Check version number"
   ]
  },
  {
   "cell_type": "code",
   "execution_count": 2,
   "metadata": {
    "collapsed": false
   },
   "outputs": [
    {
     "data": {
      "text/plain": [
       "'C:\\\\Users\\\\Kirker\\\\Documents\\\\Git Repositories\\\\excel2latexviapython'"
      ]
     },
     "execution_count": 2,
     "metadata": {},
     "output_type": "execute_result"
    }
   ],
   "source": [
    "# Get and/or set the working directory\n",
    "import re\n",
    "import os\n",
    "os.getcwd() # Get current working directory\n",
    "#os.chdir() # Set current working directory"
   ]
  },
  {
   "cell_type": "markdown",
   "metadata": {},
   "source": [
    "## User input\n",
    "In the Jupyter cell below enter the name of the of the input Excel file, and the name of the tex file to save the outputed LaTeX code to"
   ]
  },
  {
   "cell_type": "code",
   "execution_count": 28,
   "metadata": {
    "collapsed": true
   },
   "outputs": [],
   "source": [
    "# File names\n",
    "#input_excel_filename = 'C:/Users/Kirker/Desktop/tables.xlsx'\n",
    "output_tex_filename = 'C:/Users/Kirker/Dropbox/My research/Productivity Spillovers in NZ/LaTeX/Slides - Internal Tsy Overview/tables/tbl_initial_reg.tex'\n",
    "sheet_name = 'initial_reg'\n",
    "\n",
    "# When looping over sheets, we need the generic output folder\n",
    "input_excel_filename = 'C:/Users/Kirker/Dropbox/My research/Productivity Spillovers in NZ/LaTeX/Slides - Internal Tsy Overview/tables/regression_tables.xlsx'\n",
    "output_dir = 'C:/Users/Kirker/Dropbox/My research/Productivity Spillovers in NZ/LaTeX/Slides - Internal Tsy Overview/tables/'"
   ]
  },
  {
   "cell_type": "markdown",
   "metadata": {},
   "source": [
    "## Load data\n",
    "Load in the Excel Workbook, and select the appropriate Work Sheet that contains the table to copy."
   ]
  },
  {
   "cell_type": "code",
   "execution_count": 21,
   "metadata": {
    "collapsed": false
   },
   "outputs": [
    {
     "data": {
      "text/plain": [
       "openpyxl.workbook.workbook.Workbook"
      ]
     },
     "execution_count": 21,
     "metadata": {},
     "output_type": "execute_result"
    }
   ],
   "source": [
    "# read in excel workbook file\n",
    "workbook = openpyxl.load_workbook(filename = input_excel_filename)\n",
    "type(workbook)"
   ]
  },
  {
   "cell_type": "code",
   "execution_count": 22,
   "metadata": {
    "collapsed": false
   },
   "outputs": [
    {
     "data": {
      "text/plain": [
       "['Sheet1', 'Sheet2', 'initial_reg', 'Sheet4']"
      ]
     },
     "execution_count": 22,
     "metadata": {},
     "output_type": "execute_result"
    }
   ],
   "source": [
    "# Get the list of sheets in the workbook\n",
    "workbook.get_sheet_names()"
   ]
  },
  {
   "cell_type": "code",
   "execution_count": 23,
   "metadata": {
    "collapsed": false
   },
   "outputs": [
    {
     "data": {
      "text/plain": [
       "<Worksheet \"initial_reg\">"
      ]
     },
     "execution_count": 23,
     "metadata": {},
     "output_type": "execute_result"
    }
   ],
   "source": [
    "# Read in the worksheet from the workbook that contains teh table to replicate\n",
    "sheet = workbook[sheet_name]\n",
    "sheet"
   ]
  },
  {
   "cell_type": "code",
   "execution_count": 16,
   "metadata": {
    "collapsed": false
   },
   "outputs": [
    {
     "data": {
      "text/plain": [
       "((<Cell Sheet1.A1>, <Cell Sheet1.B1>, <Cell Sheet1.C1>, <Cell Sheet1.D1>),\n",
       " (<Cell Sheet1.A2>, <Cell Sheet1.B2>, <Cell Sheet1.C2>, <Cell Sheet1.D2>),\n",
       " (<Cell Sheet1.A3>, <Cell Sheet1.B3>, <Cell Sheet1.C3>, <Cell Sheet1.D3>),\n",
       " (<Cell Sheet1.A4>, <Cell Sheet1.B4>, <Cell Sheet1.C4>, <Cell Sheet1.D4>),\n",
       " (<Cell Sheet1.A5>, <Cell Sheet1.B5>, <Cell Sheet1.C5>, <Cell Sheet1.D5>),\n",
       " (<Cell Sheet1.A6>, <Cell Sheet1.B6>, <Cell Sheet1.C6>, <Cell Sheet1.D6>))"
      ]
     },
     "execution_count": 16,
     "metadata": {},
     "output_type": "execute_result"
    }
   ],
   "source": [
    "# Examin the table to get an idea of its dimensions.\n",
    "sheet.rows # See all cells in sheet "
   ]
  },
  {
   "cell_type": "code",
   "execution_count": 8,
   "metadata": {
    "collapsed": false
   },
   "outputs": [
    {
     "name": "stdout",
     "output_type": "stream",
     "text": [
      "number of columns = 4\n",
      "number of rows = 31\n"
     ]
    }
   ],
   "source": [
    "# Check dimensions of the table\n",
    "print(\"number of columns = \" + str(sheet.max_column))\n",
    "print(\"number of rows = \" + str(sheet.max_row))"
   ]
  },
  {
   "cell_type": "markdown",
   "metadata": {},
   "source": [
    "## Define functions\n",
    "Subfunctions we are going to need to process the Excel file"
   ]
  },
  {
   "cell_type": "code",
   "execution_count": 51,
   "metadata": {
    "collapsed": false
   },
   "outputs": [],
   "source": [
    "def is_number(s):\n",
    "    try:\n",
    "        float(s)\n",
    "        return True\n",
    "    except ValueError:\n",
    "        return False\n",
    "\n",
    "\n",
    "def tupple2latexstring(row_tup):\n",
    "    \"\"\" TUPPLE2LATEXSTRING\n",
    "    \n",
    "    This function converts a tupple of openpyxl CELLs into a single row string of LaTeX code for inclusion in a table.\n",
    "    \n",
    "    \n",
    "   Args:\n",
    "        row_tup: [tupple] contains the openpyxl CELLs for a single row of the table\n",
    "\n",
    "\n",
    "    Returns:\n",
    "        A string of the row cells formatted in the LaTeX style.\n",
    "        \n",
    "    \"\"\"\n",
    "    \n",
    "    \n",
    "    num_elements = len(row_tup) # how many columns we have \n",
    "    \n",
    "    \n",
    "    str_out = \"\" # initilise the output string\n",
    "    \n",
    "    \n",
    "    \n",
    "    for cn in range(0,num_elements): # for each column\n",
    "        \n",
    "        \n",
    "        # Get the main text for that cell\n",
    "        if row_tup[cn].value == None:\n",
    "            value_string = \" \" # Cell is empty of value\n",
    "        else:\n",
    "            \n",
    "            # The user might have used Excel to round off the number. If so, we need to apply the same rounding\n",
    "            \n",
    "            \n",
    "            if is_number(row_tup[cn].value):\n",
    "                # If it is a number, need to check if there is any rounding applied\n",
    "                \n",
    "                \n",
    "                if row_tup[cn].number_format == 'General': \n",
    "                    value_string = str(row_tup[cn].value)\n",
    "                    \n",
    "                else:\n",
    "                    # User has rounded off the number in the cell to a specific number of d.p.\n",
    "\n",
    "                    # work out how many d.p.s the user has rounded to.\n",
    "                    num_format_str =re.split('\\.',row_tup[cn].number_format) \n",
    "                    num_dps=len(num_format_str[1])\n",
    "\n",
    "                    # Round the cell's value to that number of d.p. \n",
    "                    value_string = str(round(row_tup[cn].value,num_dps))\n",
    "            else:\n",
    "                # Cell contains no specific rounding choice by the user, so we can take just the straight value\n",
    "                value_string = str(row_tup[cn].value)\n",
    "            \n",
    "            \n",
    "        # Apply extra formatting to cell text\n",
    "        # The cell might have special formatting applied to the value inside it (e.g. bold text). \n",
    "        # Apply the LaTeX version of this formatting to the string    \n",
    "            \n",
    "            \n",
    "        # Apply bold font if needed    \n",
    "        if row_tup[cn].font.__dict__['b']:\n",
    "            value_string = \"\\\\textbf{\" + value_string + \"}\"\n",
    "            \n",
    "        # Apply italicize if needed\n",
    "        if row_tup[cn].font.__dict__['i']:\n",
    "            value_string = \"\\\\textit{\" + value_string + \"}\"\n",
    "            \n",
    "            \n",
    "        # Append formatted string for this cell to the string out\n",
    "        str_out += value_string \n",
    "        \n",
    "        # If this isnt the last element, add cell divider\n",
    "        if cn < num_elements-1:\n",
    "            str_out += \" \\t & \\t \"\n",
    "        \n",
    "        \n",
    "    # Add on line ending code for the end of the row string\n",
    "    str_out += \" \\\\\\ \\n\" \n",
    "    \n",
    "    return str_out"
   ]
  },
  {
   "cell_type": "code",
   "execution_count": 53,
   "metadata": {
    "collapsed": false
   },
   "outputs": [
    {
     "data": {
      "text/plain": [
       "'  \\t & \\t (0.0206) \\t & \\t (0.0166) \\t & \\t (0.0965) \\\\\\\\ \\n'"
      ]
     },
     "execution_count": 53,
     "metadata": {},
     "output_type": "execute_result"
    }
   ],
   "source": [
    "# Test the above function\n",
    "tupple2latexstring(sheet.rows[2])\n",
    "\n"
   ]
  },
  {
   "cell_type": "code",
   "execution_count": 45,
   "metadata": {
    "collapsed": false
   },
   "outputs": [
    {
     "data": {
      "text/plain": [
       "False"
      ]
     },
     "execution_count": 45,
     "metadata": {},
     "output_type": "execute_result"
    }
   ],
   "source": [
    "is_number('-0.3*')"
   ]
  },
  {
   "cell_type": "code",
   "execution_count": 17,
   "metadata": {
    "collapsed": false
   },
   "outputs": [
    {
     "name": "stdout",
     "output_type": "stream",
     "text": [
      "False\n"
     ]
    }
   ],
   "source": [
    "def check_for_vline(col_tup,loc):\n",
    "    \"\"\" Look for vertical lines over the whole table\n",
    "    \n",
    "    Input:\n",
    "    ------\n",
    "        * row_tup = tupple with one element for every column in the table\n",
    "        \n",
    "        \n",
    "    Output:\n",
    "    -------\n",
    "        * str_out = string to write LaTeX code to text file\n",
    "    \n",
    "    \"\"\"    \n",
    "    \n",
    "    max_row=len(col_tup)\n",
    "    \n",
    "    ID = 0\n",
    "    \n",
    "    for rownum in range(0, max_row):\n",
    "        \n",
    "        if col_tup[rownum].border.__dict__[loc].border_style != None:\n",
    "            \n",
    "            ID += 1\n",
    "            \n",
    "            \n",
    "    if ID == max_row:\n",
    "        return(True)\n",
    "    else:\n",
    "        return(False)\n",
    "    \n",
    "out = check_for_vline(sheet.columns[2],'left')    \n",
    "print(out)"
   ]
  },
  {
   "cell_type": "code",
   "execution_count": 12,
   "metadata": {
    "collapsed": false
   },
   "outputs": [
    {
     "data": {
      "text/plain": [
       "<Cell initial_reg.C3>"
      ]
     },
     "execution_count": 12,
     "metadata": {},
     "output_type": "execute_result"
    }
   ],
   "source": [
    "sheet.columns[2][2]"
   ]
  },
  {
   "cell_type": "code",
   "execution_count": 13,
   "metadata": {
    "collapsed": false
   },
   "outputs": [
    {
     "name": "stdout",
     "output_type": "stream",
     "text": [
      "True\n"
     ]
    }
   ],
   "source": [
    "def check_for_hline(row_tup,loc):\n",
    "    \n",
    "    #row_tup = tupple2latexstring(sheet.rows[row_num])\n",
    "    \n",
    "    \n",
    "    max_column=len(row_tup)\n",
    "    \n",
    "    ID = 0\n",
    "    \n",
    "    \n",
    "    for cn in range(0,max_column):\n",
    "        \n",
    "           if row_tup[cn].border.__dict__[loc].border_style != None:\n",
    "\n",
    "            # For now we dont allow different horizontal line styles\n",
    "            ID += 1\n",
    "        \n",
    "        \n",
    "        \n",
    "    if ID == max_column:\n",
    "        return(True)\n",
    "    else:\n",
    "        return(False)\n",
    "\n",
    "out=check_for_hline(sheet.rows[0],'bottom')\n",
    "print(out)"
   ]
  },
  {
   "cell_type": "code",
   "execution_count": 14,
   "metadata": {
    "collapsed": false
   },
   "outputs": [],
   "source": [
    "def pick_col_text_alignment(col_tup):\n",
    "    '''\n",
    "    For a given column, choose the alignment (left, center, right) based on the majority of the cells\n",
    "    '''\n",
    "    \n",
    "    max_column=len(col_tup)\n",
    "    \n",
    "    # Preallocate counters\n",
    "    count_left = 0\n",
    "    count_center = 0\n",
    "    count_right = 0\n",
    "    \n",
    "    for rn in range(0,max_column):\n",
    "        \n",
    "        if col_tup[rn].alignment.__dict__['horizontal'] in [None, 'left']:\n",
    "            \n",
    "            count_left += 1\n",
    "            \n",
    "        elif col_tup[rn].alignment.__dict__['horizontal'] in ['center']:\n",
    "            \n",
    "            count_center += 1\n",
    "            \n",
    "        elif col_tup[rn].alignment.__dict__['horizontal'] in ['right']:\n",
    "            \n",
    "            count_right += 1\n",
    "        \n",
    "    max_count = max([count_left, count_center, count_right])\n",
    "    \n",
    "    if count_left == max_count:\n",
    "        \n",
    "        return('l')\n",
    "    \n",
    "    elif count_center == max_count:\n",
    "        \n",
    "        return('c')\n",
    "    \n",
    "    elif count_right == max_count:\n",
    "        \n",
    "        return('r')\n",
    "    "
   ]
  },
  {
   "cell_type": "code",
   "execution_count": 15,
   "metadata": {
    "collapsed": false
   },
   "outputs": [
    {
     "data": {
      "text/plain": [
       "'l'"
      ]
     },
     "execution_count": 15,
     "metadata": {},
     "output_type": "execute_result"
    }
   ],
   "source": [
    "pick_col_text_alignment(sheet.columns[1])\n",
    "\n"
   ]
  },
  {
   "cell_type": "markdown",
   "metadata": {},
   "source": [
    "## Create LaTeX File\n",
    "Write the table to a .tex file"
   ]
  },
  {
   "cell_type": "code",
   "execution_count": 24,
   "metadata": {
    "collapsed": false
   },
   "outputs": [],
   "source": [
    "# Create output file\n",
    "file = open(output_tex_filename,'w')\n",
    "\n",
    "\n",
    "## Create Tabular Header\n",
    "# For now, only allow centered columns\n",
    "\n",
    "col_align_str = \"\" # Preallocate string\n",
    "\n",
    "for colnum in range(0,sheet.max_column):\n",
    "    \n",
    "    if check_for_vline(sheet.columns[colnum],'left'):\n",
    "        col_align_str += '|'\n",
    "        \n",
    "    col_align_str += pick_col_text_alignment(sheet.columns[colnum])\n",
    "    \n",
    "    if check_for_vline(sheet.columns[colnum],'right'):\n",
    "        col_align_str += '|'\n",
    "\n",
    "        \n",
    "\n",
    "begin_str = \"\\\\begin{tabular}{\" + str(col_align_str)  + \"} \\n\"\n",
    "\n",
    "\n",
    "file.write(begin_str)\n",
    "\n",
    "\n",
    "\n",
    "\n",
    "for row_num in range(0,sheet.max_row):\n",
    "    if check_for_hline(sheet.rows[row_num],'top') == True:\n",
    "        file.write(\"\\hline \\n\")\n",
    "    \n",
    "    #file.write(str(row_num)+\"\\t \\\\\\ \\n\")\n",
    "    file.write(tupple2latexstring(sheet.rows[row_num]))\n",
    "       \n",
    "    if check_for_hline(sheet.rows[row_num],'bottom') == True:\n",
    "        file.write(\"\\hline \\n\")\n",
    "        \n",
    "# Close table environment\n",
    "file.write(\"\\\\end{tabular}\")\n",
    "file.close()"
   ]
  },
  {
   "cell_type": "code",
   "execution_count": 76,
   "metadata": {
    "collapsed": false
   },
   "outputs": [],
   "source": [
    "# Looping over all sheets in workbook\n",
    "workbook = openpyxl.load_workbook(filename = input_excel_filename)\n",
    "\n",
    "include_tabular_envir = True # Include \\begin{tabular}...\\end{tabular} wrapper to table\n",
    "\n",
    "\n",
    "for sheet_name in workbook.get_sheet_names():\n",
    "    \n",
    "    #Get the worksheet \n",
    "    sheet = workbook[sheet_name]\n",
    " \n",
    "\n",
    "    # Create output file\n",
    "    file = open(output_dir + sheet_name + '.tex', 'w')\n",
    "\n",
    "\n",
    "    if include_tabular_envir:\n",
    "    ## Create Tabular Header\n",
    "\n",
    "        col_align_str = \"\" # Preallocate string\n",
    "\n",
    "        for colnum in range(0,sheet.max_column):\n",
    "\n",
    "            if check_for_vline(sheet.columns[colnum],'left'):\n",
    "                col_align_str += '|'\n",
    "\n",
    "            col_align_str += pick_col_text_alignment(sheet.columns[colnum])\n",
    "\n",
    "            if check_for_vline(sheet.columns[colnum],'right'):\n",
    "                col_align_str += '|'\n",
    "\n",
    "        begin_str = \"\\\\begin{tabular}{\" + str(col_align_str)  + \"} \\n\"\n",
    "\n",
    "        file.write(begin_str)\n",
    "\n",
    "\n",
    "\n",
    "\n",
    "    for row_num in range(0,sheet.max_row):\n",
    "        if check_for_hline(sheet.rows[row_num],'top') == True:\n",
    "            file.write(\"\\hline \\n\")\n",
    "\n",
    "        #file.write(str(row_num)+\"\\t \\\\\\ \\n\")\n",
    "        file.write(tupple2latexstring(sheet.rows[row_num]))\n",
    "\n",
    "        if check_for_hline(sheet.rows[row_num],'bottom') == True:\n",
    "            file.write(\"\\hline \\n\")\n",
    "\n",
    "            \n",
    "    if include_tabular_envir:\n",
    "        # Close table environment\n",
    "        file.write(\"\\\\end{tabular}\")\n",
    "        \n",
    "        \n",
    "        \n",
    "    file.close()"
   ]
  },
  {
   "cell_type": "code",
   "execution_count": 73,
   "metadata": {
    "collapsed": false
   },
   "outputs": [
    {
     "name": "stdout",
     "output_type": "stream",
     "text": [
      "None\n"
     ]
    }
   ],
   "source": [
    "sheet=workbook['tenure']\n",
    "sheet.rows\n",
    "check_for_hline(sheet.rows[0],'top')\n",
    "print(sheet.rows[0][3].border.__dict__['top'].border_style)"
   ]
  },
  {
   "cell_type": "markdown",
   "metadata": {},
   "source": [
    "## Rough workings\n",
    "Cells below are just my rough workings"
   ]
  },
  {
   "cell_type": "code",
   "execution_count": 32,
   "metadata": {
    "collapsed": false
   },
   "outputs": [
    {
     "name": "stdout",
     "output_type": "stream",
     "text": [
      "1\n"
     ]
    }
   ],
   "source": [
    "#type(sheet.cell(row=1, column=2).border.__dict__['bottom'])\n",
    "\n",
    "\n",
    "#if sheet.cell(row=1, column=2).border.__dict__['bottom'].border_style:\n",
    "#    print(1)\n",
    "#else:\n",
    "#    print(0)"
   ]
  },
  {
   "cell_type": "code",
   "execution_count": 33,
   "metadata": {
    "collapsed": false
   },
   "outputs": [
    {
     "name": "stdout",
     "output_type": "stream",
     "text": [
      "True\n"
     ]
    }
   ],
   "source": [
    "#sheet.rows[1]\n",
    "\n",
    "\n",
    "#row_tup = sheet.rows[0]\n",
    "\n",
    "#len(row_tup)\n",
    "#sheet.max_column\n",
    "\n",
    "    \n",
    "    \n",
    "#print(sheet.cell(row=2, column=1).border.__dict__['bottom'].border_style == None)"
   ]
  },
  {
   "cell_type": "code",
   "execution_count": 34,
   "metadata": {
    "collapsed": false
   },
   "outputs": [
    {
     "data": {
      "text/plain": [
       "{'_key': 5269060958284101713,\n",
       " 'b': False,\n",
       " 'charset': None,\n",
       " 'color': Color(rgb=Values must be of type <class 'str'>, indexed=Values must be of type <class 'int'>, auto=Values must be of type <class 'bool'>, theme=1, type='theme'),\n",
       " 'condense': False,\n",
       " 'extend': False,\n",
       " 'family': 2.0,\n",
       " 'i': True,\n",
       " 'name': 'Calibri',\n",
       " 'outline': False,\n",
       " 'scheme': 'minor',\n",
       " 'shadow': False,\n",
       " 'strike': False,\n",
       " 'sz': 11.0,\n",
       " 'u': None,\n",
       " 'vertAlign': None}"
      ]
     },
     "execution_count": 34,
     "metadata": {},
     "output_type": "execute_result"
    }
   ],
   "source": [
    "#inspect.getmembers(sheet.cell(row=1, column=3).font)\n",
    "\n",
    "#sheet.cell(row=1, column=2).font.__dict__"
   ]
  },
  {
   "cell_type": "code",
   "execution_count": 35,
   "metadata": {
    "collapsed": false
   },
   "outputs": [
    {
     "data": {
      "text/plain": [
       "{'_key': 43183173055487177,\n",
       " 'bottom': Side(style='thin', color=Color(rgb=Values must be of type <class 'str'>, indexed=64, auto=Values must be of type <class 'bool'>, theme=Values must be of type <class 'int'>, type='indexed')),\n",
       " 'diagonal': ,\n",
       " 'diagonalDown': False,\n",
       " 'diagonalUp': False,\n",
       " 'diagonal_direction': None,\n",
       " 'end': None,\n",
       " 'horizontal': None,\n",
       " 'left': ,\n",
       " 'outline': True,\n",
       " 'right': ,\n",
       " 'start': None,\n",
       " 'top': ,\n",
       " 'vertical': None}"
      ]
     },
     "execution_count": 35,
     "metadata": {},
     "output_type": "execute_result"
    }
   ],
   "source": [
    "#sheet.cell(row=1, column=2).border.__dict__"
   ]
  },
  {
   "cell_type": "code",
   "execution_count": 36,
   "metadata": {
    "collapsed": false
   },
   "outputs": [
    {
     "data": {
      "text/plain": [
       "{'_key': 1468294903339714438,\n",
       " 'b': False,\n",
       " 'charset': None,\n",
       " 'color': Color(rgb=Values must be of type <class 'str'>, indexed=Values must be of type <class 'int'>, auto=Values must be of type <class 'bool'>, theme=1, type='theme'),\n",
       " 'condense': False,\n",
       " 'extend': False,\n",
       " 'family': 2.0,\n",
       " 'i': False,\n",
       " 'name': 'Calibri',\n",
       " 'outline': False,\n",
       " 'scheme': 'minor',\n",
       " 'shadow': False,\n",
       " 'strike': False,\n",
       " 'sz': 11.0,\n",
       " 'u': None,\n",
       " 'vertAlign': None}"
      ]
     },
     "execution_count": 36,
     "metadata": {},
     "output_type": "execute_result"
    }
   ],
   "source": [
    "#sheet.cell(row=2, column=2).font.__dict__"
   ]
  },
  {
   "cell_type": "code",
   "execution_count": 37,
   "metadata": {
    "collapsed": false
   },
   "outputs": [
    {
     "data": {
      "text/plain": [
       "False"
      ]
     },
     "execution_count": 37,
     "metadata": {},
     "output_type": "execute_result"
    }
   ],
   "source": [
    "\n",
    "#sheet.cell(row=2, column=2).number_format == 'General'"
   ]
  },
  {
   "cell_type": "code",
   "execution_count": null,
   "metadata": {
    "collapsed": false
   },
   "outputs": [],
   "source": []
  },
  {
   "cell_type": "code",
   "execution_count": 38,
   "metadata": {
    "collapsed": false
   },
   "outputs": [
    {
     "data": {
      "text/plain": [
       "'General'"
      ]
     },
     "execution_count": 38,
     "metadata": {},
     "output_type": "execute_result"
    }
   ],
   "source": [
    "#sheet.cell(row=3, column=2).number_format"
   ]
  },
  {
   "cell_type": "code",
   "execution_count": null,
   "metadata": {
    "collapsed": true
   },
   "outputs": [],
   "source": []
  }
 ],
 "metadata": {
  "kernelspec": {
   "display_name": "Python 3",
   "language": "python",
   "name": "python3"
  },
  "language_info": {
   "codemirror_mode": {
    "name": "ipython",
    "version": 3
   },
   "file_extension": ".py",
   "mimetype": "text/x-python",
   "name": "python",
   "nbconvert_exporter": "python",
   "pygments_lexer": "ipython3",
   "version": "3.5.1"
  }
 },
 "nbformat": 4,
 "nbformat_minor": 0
}
