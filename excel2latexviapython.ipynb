{
 "cells": [
  {
   "cell_type": "markdown",
   "metadata": {},
   "source": [
    "# Excel2LaTeXViaPython\n",
    "\n",
    "This code reads in an excel file, and writes a LaTeX file file containing a tabular environment that attempts to match the styling of the excel table as much as possible."
   ]
  },
  {
   "cell_type": "markdown",
   "metadata": {},
   "source": [
    "## Preamble\n"
   ]
  },
  {
   "cell_type": "code",
   "execution_count": 283,
   "metadata": {
    "collapsed": false
   },
   "outputs": [
    {
     "data": {
      "text/plain": [
       "'2.3.2'"
      ]
     },
     "execution_count": 283,
     "metadata": {},
     "output_type": "execute_result"
    }
   ],
   "source": [
    "import openpyxl # Package for reading excel files (.xlsx) into Python\n",
    "openpyxl.__version__ # Check version number"
   ]
  },
  {
   "cell_type": "code",
   "execution_count": 284,
   "metadata": {
    "collapsed": false
   },
   "outputs": [
    {
     "data": {
      "text/plain": [
       "'D:\\\\Users\\\\Kirker\\\\Documents\\\\Git repositories\\\\excel2latexviapython'"
      ]
     },
     "execution_count": 284,
     "metadata": {},
     "output_type": "execute_result"
    }
   ],
   "source": [
    "# Get and/or set the working directory\n",
    "import re\n",
    "import os\n",
    "os.getcwd() # Get current working directory\n",
    "#os.chdir() # Set current working directory"
   ]
  },
  {
   "cell_type": "markdown",
   "metadata": {},
   "source": [
    "## User input\n",
    "In the Jupyter cell below enter the name of the of the input Excel file, and the name of the tex file to save the outputed LaTeX code to"
   ]
  },
  {
   "cell_type": "code",
   "execution_count": 285,
   "metadata": {
    "collapsed": true
   },
   "outputs": [],
   "source": [
    "# File names\n",
    "#input_excel_filename = 'C:/Users/Kirker/Desktop/tables.xlsx'\n",
    "output_tex_filename = os.getcwd()+'/Example/simple_table_out.tex'\n",
    "sheet_name = 'Sheet1'\n",
    "\n",
    "# When looping over sheets, we need the generic output folder\n",
    "input_excel_filename = os.getcwd()+'/Example/simple_table.xlsx'\n",
    "output_dir = 'C:/Users/Kirker/Dropbox/My research/Productivity Spillovers in NZ/LaTeX/Slides - Internal Tsy Overview/tables/'\n",
    "\n",
    "# Define user settings in a dictionary\n",
    "#\n",
    "# Current options:\n",
    "#    booktabs: True/False\n",
    "#        Defines if we should use the booktabs package functions to make prettier horizontal lines or standard hlines\n",
    "#\n",
    "# includetabular: True/False\n",
    "#        Should the code include the tabular environment code around the table, or just return the table rows.    \n",
    "usr_settings = {'booktabs':True, 'includetabular':True}"
   ]
  },
  {
   "cell_type": "markdown",
   "metadata": {},
   "source": [
    "## Load data\n",
    "Load in the Excel Workbook, and select the appropriate Work Sheet that contains the table to copy."
   ]
  },
  {
   "cell_type": "code",
   "execution_count": 286,
   "metadata": {
    "collapsed": false
   },
   "outputs": [
    {
     "data": {
      "text/plain": [
       "openpyxl.workbook.workbook.Workbook"
      ]
     },
     "execution_count": 286,
     "metadata": {},
     "output_type": "execute_result"
    }
   ],
   "source": [
    "# read in excel workbook file\n",
    "workbook = openpyxl.load_workbook(filename = input_excel_filename)\n",
    "type(workbook)"
   ]
  },
  {
   "cell_type": "code",
   "execution_count": 287,
   "metadata": {
    "collapsed": false
   },
   "outputs": [
    {
     "data": {
      "text/plain": [
       "['Sheet1']"
      ]
     },
     "execution_count": 287,
     "metadata": {},
     "output_type": "execute_result"
    }
   ],
   "source": [
    "# Get the list of sheets in the workbook\n",
    "workbook.get_sheet_names()"
   ]
  },
  {
   "cell_type": "code",
   "execution_count": 288,
   "metadata": {
    "collapsed": false
   },
   "outputs": [
    {
     "data": {
      "text/plain": [
       "<Worksheet \"Sheet1\">"
      ]
     },
     "execution_count": 288,
     "metadata": {},
     "output_type": "execute_result"
    }
   ],
   "source": [
    "# Read in the worksheet from the workbook that contains teh table to replicate\n",
    "sheet = workbook[sheet_name]\n",
    "sheet"
   ]
  },
  {
   "cell_type": "code",
   "execution_count": 289,
   "metadata": {
    "collapsed": false
   },
   "outputs": [
    {
     "data": {
      "text/plain": [
       "((<Cell Sheet1.A1>, <Cell Sheet1.B1>, <Cell Sheet1.C1>, <Cell Sheet1.D1>),\n",
       " (<Cell Sheet1.A2>, <Cell Sheet1.B2>, <Cell Sheet1.C2>, <Cell Sheet1.D2>),\n",
       " (<Cell Sheet1.A3>, <Cell Sheet1.B3>, <Cell Sheet1.C3>, <Cell Sheet1.D3>),\n",
       " (<Cell Sheet1.A4>, <Cell Sheet1.B4>, <Cell Sheet1.C4>, <Cell Sheet1.D4>),\n",
       " (<Cell Sheet1.A5>, <Cell Sheet1.B5>, <Cell Sheet1.C5>, <Cell Sheet1.D5>),\n",
       " (<Cell Sheet1.A6>, <Cell Sheet1.B6>, <Cell Sheet1.C6>, <Cell Sheet1.D6>))"
      ]
     },
     "execution_count": 289,
     "metadata": {},
     "output_type": "execute_result"
    }
   ],
   "source": [
    "# Examin the table to get an idea of its dimensions.\n",
    "sheet.rows # See all cells in sheet "
   ]
  },
  {
   "cell_type": "code",
   "execution_count": 290,
   "metadata": {
    "collapsed": false
   },
   "outputs": [
    {
     "name": "stdout",
     "output_type": "stream",
     "text": [
      "number of columns = 4\n",
      "number of rows = 6\n"
     ]
    }
   ],
   "source": [
    "# Check dimensions of the table\n",
    "print(\"number of columns = \" + str(sheet.max_column))\n",
    "print(\"number of rows = \" + str(sheet.max_row))"
   ]
  },
  {
   "cell_type": "markdown",
   "metadata": {},
   "source": [
    "## Define functions\n",
    "Subfunctions we are going to need to process the Excel file"
   ]
  },
  {
   "cell_type": "code",
   "execution_count": 291,
   "metadata": {
    "collapsed": false
   },
   "outputs": [],
   "source": [
    "def is_number(s):\n",
    "    '''\n",
    "    IS_NUMBER\n",
    "    \n",
    "    This function tells us if the object \"s\" is a number or not.\n",
    "    \n",
    "    This is useful for working out if the excel cell contains a number, and hence \n",
    "    whether we need to check how many d.p. to round to. It checks by trying to \n",
    "    convert the string to a float. If it fails, \"s\" is not a number\n",
    "    \n",
    "    Args:\n",
    "        s: [string]\n",
    "        \n",
    "    Returns:\n",
    "        True/False\n",
    "    '''\n",
    "    \n",
    "    try:\n",
    "        float(s)\n",
    "        return True\n",
    "    except ValueError:\n",
    "        return False\n",
    "\n",
    "\n",
    "def tupple2latexstring(row_tup):\n",
    "    \"\"\" TUPPLE2LATEXSTRING\n",
    "    \n",
    "    This function converts a tupple of openpyxl CELLs into a single row string \n",
    "    of LaTeX code for inclusion in a table. It loops over each cell and appends \n",
    "    the appropriate text (respresenting the LaTeX code) to the string which it \n",
    "    returns at the end.\n",
    "    \n",
    "    \n",
    "   Args:\n",
    "        row_tup: [tupple] contains the openpyxl CELLs for a single row of the table\n",
    "\n",
    "\n",
    "    Returns:\n",
    "        A string of the row cells formatted in the LaTeX style.\n",
    "        \n",
    "    \"\"\"\n",
    "    \n",
    "    \n",
    "    num_elements = len(row_tup) # how many columns we have in the row\n",
    "    \n",
    "    \n",
    "    str_out = \"\" # initilise the output string\n",
    "    \n",
    "    \n",
    "    \n",
    "    for colidx in range(0,num_elements): # for each column/cell\n",
    "        \n",
    "        # Get the main text for that cell.\n",
    "        \n",
    "        #########\n",
    "        # Step 1: Get the \"value_string\" giving the text displayed in the cell\n",
    "        #########\n",
    "        \n",
    "        if row_tup[colidx].value == None:\n",
    "        \n",
    "            # In this case, the cell is empty, so \n",
    "            \n",
    "            value_string = \" \" # Cell is empty of value\n",
    "   \n",
    "        else:   # Case when the cell contains something\n",
    "            \n",
    "            \n",
    "            # Check the content of the cell:\n",
    "            # The user might have used Excel to round off the number. \n",
    "            # If so, we need to apply the same rounding. So first check \n",
    "            # to see if the cell contains a number\n",
    "            \n",
    "            if is_number(row_tup[colidx].value):\n",
    "                # If it is a number, need to check if there is any rounding applied\n",
    "                \n",
    "                if row_tup[colidx].number_format == 'General': \n",
    "                    # General indicates the user has not adjusted the number of d.p., so we can take just the raw number\n",
    "                    \n",
    "                    value_string = str(row_tup[colidx].value)\n",
    "                    \n",
    "                else:\n",
    "                    # User has rounded off the number in the cell to a specific number of d.p.\n",
    "\n",
    "                    # work out how many d.p.s the user has rounded to. by splitting the string at \n",
    "                    # the decimal place, and counting the number of elements after the decimal\n",
    "                    \n",
    "                    num_format_str =re.split('\\.',row_tup[colidx].number_format) \n",
    "                    \n",
    "                    num_dps=len(num_format_str[1])\n",
    "\n",
    "                    # Round the cell's value to that number of d.p. \n",
    "                    value_string = str(round(row_tup[colidx].value,num_dps))\n",
    "                    \n",
    "            else:\n",
    "                # Cell contains no specific rounding choice by the user, so we can take just the straight value\n",
    "                value_string = str(row_tup[colidx].value)\n",
    "          \n",
    "        \n",
    "        #########\n",
    "        # Step 2: Apply formatting to the cell's value\n",
    "        #########\n",
    " \n",
    "        # The cell might have special formatting applied to the value inside it (e.g. bold text). \n",
    "        # Apply the LaTeX version of this formatting to the string    \n",
    "            \n",
    "            \n",
    "        # Apply bold font if needed    \n",
    "        if row_tup[colidx].font.__dict__['b']:\n",
    "            value_string = \"\\\\textbf{\" + value_string + \"}\"\n",
    "            \n",
    "        # Apply italicize if needed\n",
    "        if row_tup[colidx].font.__dict__['i']:\n",
    "            value_string = \"\\\\textit{\" + value_string + \"}\"\n",
    "       \n",
    "    \n",
    "        #########\n",
    "        # Step 3: Now that we have to LaTeX code for that cell/column, append it to the string for the entire row.\n",
    "        #########\n",
    "        \n",
    "        # Append formatted string for this cell to the string out\n",
    "        str_out += value_string \n",
    "        \n",
    "        \n",
    "        # If this isnt the last element, add cell divider\n",
    "        if colidx < num_elements-1:\n",
    "            str_out += \" \\t & \\t \"\n",
    "        \n",
    "    \n",
    "    # Now that we have looped over all elements, add on line ending code for the end of the row string\n",
    "    str_out += \" \\\\\\ \\n\" \n",
    "    \n",
    "    return str_out"
   ]
  },
  {
   "cell_type": "code",
   "execution_count": 292,
   "metadata": {
    "collapsed": false
   },
   "outputs": [
    {
     "data": {
      "text/plain": [
       "'row label 2 \\t & \\t 5.7 \\t & \\t 1.85 \\t & \\t 4.5 \\\\\\\\ \\n'"
      ]
     },
     "execution_count": 292,
     "metadata": {},
     "output_type": "execute_result"
    }
   ],
   "source": [
    "# Test the above function\n",
    "tupple2latexstring(sheet.rows[2])\n",
    "\n"
   ]
  },
  {
   "cell_type": "code",
   "execution_count": 293,
   "metadata": {
    "collapsed": false
   },
   "outputs": [
    {
     "data": {
      "text/plain": [
       "False"
      ]
     },
     "execution_count": 293,
     "metadata": {},
     "output_type": "execute_result"
    }
   ],
   "source": [
    "is_number('-0.3*')"
   ]
  },
  {
   "cell_type": "code",
   "execution_count": 294,
   "metadata": {
    "collapsed": false
   },
   "outputs": [
    {
     "name": "stdout",
     "output_type": "stream",
     "text": [
      "False\n"
     ]
    }
   ],
   "source": [
    "def check_for_vline(col_tup,loc):\n",
    "    \"\"\" \n",
    "    \n",
    "    Look for vertical lines down the entire length of the column.\n",
    "    \n",
    "    We do this by looping over all the cells, and then counting how many of them have a vertical line in location \"loc\"\n",
    "    \n",
    "    Args:\n",
    "        row_tup: [tupple] contains the openpyxl CELLs for a single row of the table\n",
    "\n",
    "\n",
    "    Returns:\n",
    "        True/False\n",
    "    \"\"\"    \n",
    "    \n",
    "    \n",
    "    num_rows=len(col_tup) # Number of rows in the column\n",
    "    \n",
    "    ID = 0 # Initialise count\n",
    "    \n",
    "    \n",
    "    for rownum in range(0, num_rows):  # For each row\n",
    "        \n",
    "        # Check to see if there is a border style in location \"loc\"\n",
    "        if col_tup[rownum].border.__dict__[loc].border_style != None:\n",
    "            \n",
    "            # Add one to our count\n",
    "            ID += 1\n",
    "            \n",
    "            \n",
    "    # Check to see if every row has a border style in location \"loc\"\n",
    "    if ID == num_rows:\n",
    "        return(True)\n",
    "    else:\n",
    "        return(False)\n",
    "    \n",
    "    \n",
    "    \n",
    "# A test of the function:    \n",
    "out = check_for_vline(sheet.columns[2],'left')    \n",
    "print(out)"
   ]
  },
  {
   "cell_type": "code",
   "execution_count": 295,
   "metadata": {
    "collapsed": false
   },
   "outputs": [
    {
     "data": {
      "text/plain": [
       "<Cell Sheet1.C3>"
      ]
     },
     "execution_count": 295,
     "metadata": {},
     "output_type": "execute_result"
    }
   ],
   "source": [
    "sheet.columns[2][2]"
   ]
  },
  {
   "cell_type": "code",
   "execution_count": 296,
   "metadata": {
    "collapsed": false
   },
   "outputs": [
    {
     "name": "stdout",
     "output_type": "stream",
     "text": [
      "True\n"
     ]
    }
   ],
   "source": []
  },
  {
   "cell_type": "code",
   "execution_count": 297,
   "metadata": {
    "collapsed": false
   },
   "outputs": [],
   "source": [
    "def create_cline_code(cell_has_rule,booktabs=False):\n",
    "    \"\"\" \n",
    "    CREATE_CLINE_CODE\n",
    "    \n",
    "    Creates the code for horizontal lines that do not span the entire length of the table.\n",
    "    \n",
    "    \n",
    "    Args:\n",
    "        cell_has_rule: [list] whose elements are True/False for each cell indicating \n",
    "                            whether the horizontal rule includes this cell.\n",
    "        \n",
    "        booktabs=False: True/False. Should the code return code for the booktabs package or regular LaTeX?\n",
    "\n",
    "\n",
    "    Returns:\n",
    "        A string containing the code needed to draw the horizontal lines. E.g. \"\\cmidrule(r){1-4} \\cmidrule(r){6-9} \\n\"\n",
    "    \"\"\"       \n",
    "    \n",
    "    # Initialize the output string based upon which table style we are doing\n",
    "    \n",
    "    if booktabs == True:\n",
    "        str_out = '\\\\cmidrule(r)'\n",
    "    else:\n",
    "        str_out = '\\\\cline' \n",
    "    \n",
    "    \n",
    "   \n",
    "    # Loop over each element of cell_has_rule to find where the lines start/stop\n",
    "    \n",
    "    \n",
    "    num_column=len(cell_has_rule) # How many elements in the row\n",
    "    \n",
    "    # Create a flag to indicate whether we are starting a new cmidrule/cline or not.\n",
    "    start_flag = 1 # we are looking for the next True\n",
    "    \n",
    "    \n",
    "    for colind in range(0,num_column): # For each column/cell\n",
    "\n",
    "        if (cell_has_rule[colind] == True) & (start_flag == 1):\n",
    "            \n",
    "            # We are initializing a new cmidrule/cline\n",
    "\n",
    "            colnum = colind+1\n",
    "\n",
    "            if booktabs == True:\n",
    "                str_out +=  '\\\\cmidrule(r){'+ str(colnum) + '-'\n",
    "            else:\n",
    "                str_out +=  '\\\\cline{'+ str(colnum) + '-'\n",
    "\n",
    "            start_flag = 0 # Turn off flag since now we are going to be looking for where this particular cline ends\n",
    "            \n",
    "            continue\n",
    "\n",
    "        elif (cell_has_rule[colind] == False) & (start_flag == 1):\n",
    "\n",
    "            # This is the case when we are searching for a new cline to begin, but there is some cells where it hasnt started yet\n",
    "            str_out += '' # do nothing\n",
    "            \n",
    "            continue\n",
    "\n",
    "        elif cell_has_rule[colind] == False: \n",
    "            \n",
    "            # We have found a column/cell without a cline, so end the current open cline\n",
    "\n",
    "            str_out += str(colind) + '} \\t '\n",
    "\n",
    "            start_flag = 1 # Turn flag back on so we are searching for a new cline start\n",
    "            continue\n",
    "\n",
    "        elif (cell_has_rule[colind] == True) & (colind==num_column-1):\n",
    "        \n",
    "            # If we get to the end of the table, and the column/cell still has a cline, end the cline.\n",
    "            # last one is True\n",
    "            \n",
    "            str_out += str(num_column) + '} \\t '\n",
    "        \n",
    "        else:\n",
    "            # Code should never reach this here.\n",
    "            \n",
    "            str_out +' Err in create_cline_code'\n",
    "            continue\n",
    "\n",
    "\n",
    "    # End the line and return the string\n",
    "    str_out += ' \\n'\n",
    "\n",
    "    return(str_out)\n",
    "        \n",
    "            \n",
    "\n",
    "\n",
    "def create_horzrule_code(row_tup,loc,usr_settings,top_row = False, bottom_row = False):\n",
    "    \"\"\" \n",
    "    CREATE_HORZRULE_CODE\n",
    "    \n",
    "    Creates the code for horizontal lines in a particular row of the table. Will return \n",
    "    a string of LaTeX code that is either a horizontal line spanning the entire width of \n",
    "    the table, or code to make the horizontal line(s) span only part of the table.\n",
    "    \n",
    "    \n",
    "    Args:\n",
    "        row_tup: [tuple] containing a row of the table.\n",
    "        \n",
    "        loc: [string] either 'top' or 'bottom' to indicate where (relative to this particular \n",
    "                row) we should check for any horizontal lines\n",
    "        \n",
    "        usr_settings: [dictionary] user settings - tells us to use booktabs code or not.\n",
    "        \n",
    "        \n",
    "\n",
    "    Returns:\n",
    "        A string containing the code needed to draw the horizontal line(s) for that particular row.\n",
    "    \"\"\"  \n",
    "    \n",
    "    \n",
    "    '''\n",
    "    Inputs:\n",
    "    * row_tup : tupple containing the excel row\n",
    "    \n",
    "    * loc : String , either 'top' or 'bottom'\n",
    "    \n",
    "    * usr_settings : dirctionary, so we know if the user wants booktabs\n",
    "    '''\n",
    "    \n",
    "    \n",
    "    num_column=len(row_tup)\n",
    "    \n",
    "    \n",
    "    #########\n",
    "    # Step 1: Find which cells have horizontal rules\n",
    "    #########\n",
    "    \n",
    "    # Contruct a list with True/False elements to indicate if the horizontal rule applies to that cell.\n",
    "    \n",
    "    cell_has_rule = [] # Pre-allocate list\n",
    "    \n",
    "    for colnum in range(0,num_column):\n",
    "        \n",
    "        if row_tup[colnum].border.__dict__[loc].border_style != None:\n",
    "            cell_has_rule.append(True) \n",
    "        else:\n",
    "            cell_has_rule.append(False)\n",
    "    \n",
    "    \n",
    "    \n",
    "    \n",
    "    if sum(cell_has_rule) == 0: # If there are no rules and any cell, there is no line here, so return a blank string\n",
    "        \n",
    "        return('')\n",
    "    \n",
    "    else: # There exists some horizontal rule on at least part of the row, so return the appropriate LaTeX code  \n",
    "    \n",
    "    \n",
    "    \n",
    "\n",
    "        # If user has specified booktabs\n",
    "        if usr_settings['booktabs'] == True:\n",
    "\n",
    "            if sum(cell_has_rule) == num_column:\n",
    "\n",
    "                return('\\midrule \\n')\n",
    "\n",
    "            else:\n",
    "\n",
    "                return(create_cline_code(cell_has_rule,booktabs=True))\n",
    "\n",
    "\n",
    "\n",
    "\n",
    "\n",
    "\n",
    "        else:\n",
    "\n",
    "            if sum(cell_has_rule) == num_column:\n",
    "                return('\\hline \\n')\n",
    "\n",
    "            else:\n",
    "\n",
    "                return(create_cline_code(cell_has_rule,booktabs=False))\n"
   ]
  },
  {
   "cell_type": "code",
   "execution_count": 298,
   "metadata": {
    "collapsed": false
   },
   "outputs": [
    {
     "data": {
      "text/plain": [
       "'\\\\cmidrule(r)'"
      ]
     },
     "execution_count": 298,
     "metadata": {},
     "output_type": "execute_result"
    }
   ],
   "source": []
  },
  {
   "cell_type": "code",
   "execution_count": 299,
   "metadata": {
    "collapsed": false
   },
   "outputs": [],
   "source": [
    "def pick_col_text_alignment(col_tup):\n",
    "    \"\"\" \n",
    "    PICK_COL_TEXT_ALIGNMENT\n",
    "    \n",
    "    For a given column, choose the alignment (left, center, right) based \n",
    "    on the alignment choice of the majority of the cells\n",
    "    \n",
    "    \n",
    "    Args:\n",
    "        col_tup: [tuple] containing a column of the table.\n",
    "        \n",
    "    Returns:\n",
    "        A string ('l'/'c'/'r') indicating the alignment to use\n",
    "    \"\"\"  \n",
    "  \n",
    "    \n",
    "    max_column=len(col_tup)\n",
    "    \n",
    "    # Preallocate counters\n",
    "    count_left = 0\n",
    "    count_center = 0\n",
    "    count_right = 0\n",
    "    \n",
    "    \n",
    "    # Loop over each row, and count the alignment types\n",
    "    for rn in range(0,max_column):\n",
    "        \n",
    "        # If the user doesnt speicify an alignment in Excel, we see the alignment \n",
    "        # choice as \"None\". So let us assign default values. If a number, align \n",
    "        # right, if not, align left.\n",
    "        \n",
    "        if col_tup[rn].alignment.__dict__['horizontal'] in [None]:\n",
    "            \n",
    "            # Check to see if the value is a number\n",
    "            if is_number(col_tup[rn].value):\n",
    "                align_val = 'right'\n",
    "            else:\n",
    "                align_val = 'left'\n",
    "                \n",
    "        else:\n",
    "            align_val = col_tup[rn].alignment.__dict__['horizontal']\n",
    "        \n",
    "        \n",
    "        if align_val in ['left']:\n",
    "            \n",
    "            count_left += 1\n",
    "            \n",
    "        elif align_val in ['center']:\n",
    "            \n",
    "            count_center += 1\n",
    "            \n",
    "        elif align_val in ['right']:\n",
    "            \n",
    "            count_right += 1\n",
    "            \n",
    "            \n",
    "    # Find the maximum, in the case of a tie, we break the tie by the order: L,C,R\n",
    "    max_count = max([count_left, count_center, count_right])\n",
    "    \n",
    "    if count_left == max_count:\n",
    "        \n",
    "        return('l')\n",
    "    \n",
    "    elif count_center == max_count:\n",
    "        \n",
    "        return('c')\n",
    "    \n",
    "    elif count_right == max_count:\n",
    "        \n",
    "        return('r')\n",
    "    "
   ]
  },
  {
   "cell_type": "code",
   "execution_count": 300,
   "metadata": {
    "collapsed": false
   },
   "outputs": [
    {
     "data": {
      "text/plain": [
       "'l'"
      ]
     },
     "execution_count": 300,
     "metadata": {},
     "output_type": "execute_result"
    }
   ],
   "source": [
    "pick_col_text_alignment(sheet.columns[1])\n",
    "\n"
   ]
  },
  {
   "cell_type": "markdown",
   "metadata": {},
   "source": [
    "## Create LaTeX File\n",
    "Write the table to a .tex file"
   ]
  },
  {
   "cell_type": "code",
   "execution_count": 301,
   "metadata": {
    "collapsed": false
   },
   "outputs": [],
   "source": [
    "# Create output file\n",
    "file = open(output_tex_filename,'w')\n",
    "\n",
    "\n",
    "## Create Tabular Header\n",
    "# For now, only allow centered columns\n",
    "\n",
    "col_align_str = \"\" # Preallocate string\n",
    "\n",
    "for colnum in range(0,sheet.max_column):\n",
    "    \n",
    "    if check_for_vline(sheet.columns[colnum],'left'):\n",
    "        col_align_str += '|'\n",
    "        \n",
    "    col_align_str += pick_col_text_alignment(sheet.columns[colnum])\n",
    "    \n",
    "    if check_for_vline(sheet.columns[colnum],'right'):\n",
    "        col_align_str += '|'\n",
    "\n",
    "        \n",
    "\n",
    "begin_str = \"\\\\begin{tabular}{\" + str(col_align_str)  + \"} \\n\"\n",
    "\n",
    "\n",
    "file.write(begin_str)\n",
    "\n",
    "\n",
    "\n",
    "\n",
    "for row_num in range(0,sheet.max_row):\n",
    "    if check_for_hline(sheet.rows[row_num],'top') == True:\n",
    "        file.write(\"\\hline \\n\")\n",
    "    \n",
    "    #file.write(str(row_num)+\"\\t \\\\\\ \\n\")\n",
    "    file.write(tupple2latexstring(sheet.rows[row_num]))\n",
    "       \n",
    "    if check_for_hline(sheet.rows[row_num],'bottom') == True:\n",
    "        file.write(\"\\hline \\n\")\n",
    "        \n",
    "# Close table environment\n",
    "file.write(\"\\\\end{tabular}\")\n",
    "file.close()"
   ]
  },
  {
   "cell_type": "code",
   "execution_count": 302,
   "metadata": {
    "collapsed": false
   },
   "outputs": [],
   "source": [
    "# Looping over all sheets in workbook\n",
    "workbook = openpyxl.load_workbook(filename = input_excel_filename)\n",
    "\n",
    "include_tabular_envir = True # Include \\begin{tabular}...\\end{tabular} wrapper to table\n",
    "\n",
    "\n",
    "for sheet_name in workbook.get_sheet_names():\n",
    "    \n",
    "    #Get the worksheet \n",
    "    sheet = workbook[sheet_name]\n",
    " \n",
    "\n",
    "    # Create output file\n",
    "    file = open(output_tex_filename, 'w') # dir + sheet_name + '.tex'\n",
    "\n",
    "\n",
    "    if include_tabular_envir:\n",
    "    ## Create Tabular Header\n",
    "\n",
    "        col_align_str = \"\" # Preallocate string\n",
    "\n",
    "        for colnum in range(0,sheet.max_column):\n",
    "\n",
    "            if check_for_vline(sheet.columns[colnum],'left'):\n",
    "                col_align_str += '|'\n",
    "\n",
    "            col_align_str += pick_col_text_alignment(sheet.columns[colnum])\n",
    "\n",
    "            if check_for_vline(sheet.columns[colnum],'right'):\n",
    "                col_align_str += '|'\n",
    "\n",
    "        begin_str = \"\\\\begin{tabular}{\" + str(col_align_str)  + \"} \\n\"\n",
    "\n",
    "        file.write(begin_str)\n",
    "\n",
    "\n",
    "\n",
    "\n",
    "    for row_num in range(0,sheet.max_row):\n",
    "        \n",
    "        \n",
    "        \n",
    "      \n",
    "        \n",
    "        #if check_for_hline(sheet.rows[row_num],'top') == True:\n",
    "        #    \n",
    "        #    if usr_settings['booktabs'] == True & row_num == 0:\n",
    "        #        file.write(\"\\top rule \\n\")\n",
    "        #    elif usr_settings['booktabs'] == True:\n",
    "        #        file.write(\"\\midrule \\n\")\n",
    "        #    else:\n",
    "        #        file.write(\"\\hline \\n\")\n",
    "\n",
    "        hrule_str = create_horzrule_code( sheet.rows[row_num] , 'top' , usr_settings,top_row = False, bottom_row = False)\n",
    "        file.write(hrule_str)\n",
    "        \n",
    "        \n",
    "        #file.write(str(row_num)+\"\\t \\\\\\ \\n\")\n",
    "        file.write(tupple2latexstring(sheet.rows[row_num]))\n",
    "\n",
    "        #if check_for_hline(sheet.rows[row_num],'bottom') == True:\n",
    "        #    \n",
    "        #    if usr_settings['booktabs'] == True & sheet.max_row == 0:\n",
    "        #        file.write(\"\\bottomrule \\n\")\n",
    "        #    elif usr_settings['booktabs'] == True:\n",
    "        #        file.write(\"\\midrule \\n\")\n",
    "        #    else:\n",
    "        #        file.write(\"\\hline \\n\")\n",
    "        \n",
    "        hrule_str = create_horzrule_code(sheet.rows[row_num] , 'bottom' , usr_settings,top_row = False, bottom_row = False)\n",
    "        file.write(hrule_str)\n",
    "            \n",
    "    if include_tabular_envir:\n",
    "        # Close table environment\n",
    "        file.write(\"\\\\end{tabular}\")\n",
    "        \n",
    "        \n",
    "        \n",
    "    file.close()"
   ]
  },
  {
   "cell_type": "code",
   "execution_count": 303,
   "metadata": {
    "collapsed": false
   },
   "outputs": [],
   "source": [
    "#sheet=workbook['tenure']\n",
    "#sheet.rows\n",
    "#check_for_hline(sheet.rows[0],'top')\n",
    "#print(sheet.rows[0][3].border.__dict__['top'].border_style)"
   ]
  },
  {
   "cell_type": "markdown",
   "metadata": {},
   "source": [
    "## Rough workings\n",
    "Cells below are just my rough workings"
   ]
  },
  {
   "cell_type": "code",
   "execution_count": 304,
   "metadata": {
    "collapsed": false
   },
   "outputs": [],
   "source": [
    "#type(sheet.cell(row=1, column=2).border.__dict__['bottom'])\n",
    "\n",
    "\n",
    "#if sheet.cell(row=1, column=2).border.__dict__['bottom'].border_style:\n",
    "#    print(1)\n",
    "#else:\n",
    "#    print(0)"
   ]
  },
  {
   "cell_type": "code",
   "execution_count": 305,
   "metadata": {
    "collapsed": false
   },
   "outputs": [],
   "source": [
    "#sheet.rows[1]\n",
    "\n",
    "\n",
    "#row_tup = sheet.rows[0]\n",
    "\n",
    "#len(row_tup)\n",
    "#sheet.max_column\n",
    "\n",
    "    \n",
    "    \n",
    "#print(sheet.cell(row=2, column=1).border.__dict__['bottom'].border_style == None)"
   ]
  },
  {
   "cell_type": "code",
   "execution_count": 306,
   "metadata": {
    "collapsed": false
   },
   "outputs": [],
   "source": [
    "#inspect.getmembers(sheet.cell(row=1, column=3).font)\n",
    "\n",
    "#sheet.cell(row=1, column=2).font.__dict__"
   ]
  },
  {
   "cell_type": "code",
   "execution_count": 307,
   "metadata": {
    "collapsed": false
   },
   "outputs": [],
   "source": [
    "#sheet.cell(row=1, column=2).border.__dict__"
   ]
  },
  {
   "cell_type": "code",
   "execution_count": 308,
   "metadata": {
    "collapsed": false
   },
   "outputs": [],
   "source": [
    "#sheet.cell(row=2, column=2).font.__dict__"
   ]
  },
  {
   "cell_type": "code",
   "execution_count": 309,
   "metadata": {
    "collapsed": false
   },
   "outputs": [],
   "source": [
    "\n",
    "#sheet.cell(row=2, column=2).number_format == 'General'"
   ]
  },
  {
   "cell_type": "code",
   "execution_count": null,
   "metadata": {
    "collapsed": false
   },
   "outputs": [],
   "source": []
  },
  {
   "cell_type": "code",
   "execution_count": 310,
   "metadata": {
    "collapsed": false
   },
   "outputs": [],
   "source": [
    "#sheet.cell(row=3, column=2).number_format"
   ]
  },
  {
   "cell_type": "code",
   "execution_count": null,
   "metadata": {
    "collapsed": true
   },
   "outputs": [],
   "source": []
  }
 ],
 "metadata": {
  "kernelspec": {
   "display_name": "Python 3",
   "language": "python",
   "name": "python3"
  },
  "language_info": {
   "codemirror_mode": {
    "name": "ipython",
    "version": 3
   },
   "file_extension": ".py",
   "mimetype": "text/x-python",
   "name": "python",
   "nbconvert_exporter": "python",
   "pygments_lexer": "ipython3",
   "version": "3.5.1"
  }
 },
 "nbformat": 4,
 "nbformat_minor": 0
}
